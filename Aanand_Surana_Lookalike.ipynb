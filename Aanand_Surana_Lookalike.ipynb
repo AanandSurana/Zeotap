{
  "nbformat": 4,
  "nbformat_minor": 0,
  "metadata": {
    "colab": {
      "provenance": []
    },
    "kernelspec": {
      "name": "python3",
      "display_name": "Python 3"
    },
    "language_info": {
      "name": "python"
    }
  },
  "cells": [
    {
      "cell_type": "code",
      "execution_count": 2,
      "metadata": {
        "colab": {
          "base_uri": "https://localhost:8080/"
        },
        "id": "XqZrT2TgEqiQ",
        "outputId": "8b575bf1-3092-46a7-aed7-a863d2f85c39"
      },
      "outputs": [
        {
          "output_type": "stream",
          "name": "stdout",
          "text": [
            "Lookalike Recommendations:\n",
            "   CustomerID                                         Lookalikes\n",
            "0      C0001  [('C0197', 0.8173310844459089), ('C0026', 0.73...\n",
            "1      C0002  [('C0133', 0.8837932938918894), ('C0173', 0.76...\n",
            "2      C0003  [('C0164', 0.7229023422425487), ('C0085', 0.65...\n",
            "3      C0004  [('C0118', 0.740279454546346), ('C0008', 0.718...\n",
            "4      C0005  [('C0128', 0.7597061203041797), ('C0096', 0.74...\n"
          ]
        }
      ],
      "source": [
        "# Lookalike Model Development\n",
        "# Importing necessary libraries\n",
        "import pandas as pd\n",
        "from sklearn.feature_extraction.text import TfidfVectorizer\n",
        "from sklearn.metrics.pairwise import cosine_similarity\n",
        "\n",
        "# Load the datasets\n",
        "customers = pd.read_csv(\"/content/Customers.csv\")\n",
        "products = pd.read_csv(\"/content/Products.csv\")\n",
        "transactions = pd.read_csv(\"/content/Transactions.csv\")\n",
        "\n",
        "# Merging datasets\n",
        "merged_data = transactions.merge(customers, on='CustomerID').merge(products, on='ProductID')\n",
        "\n",
        "# Preparing customer profiles\n",
        "## Aggregate transaction data for each customer\n",
        "customer_profiles = merged_data.groupby('CustomerID').agg({\n",
        "    'ProductName': lambda x: ' '.join(x),  # Combine product names as a single string\n",
        "    'TotalValue': 'sum'  # Total spend per customer\n",
        "}).reset_index()\n",
        "\n",
        "# Applying TF-IDF on product names\n",
        "vectorizer = TfidfVectorizer()\n",
        "product_tfidf_matrix = vectorizer.fit_transform(customer_profiles['ProductName'])\n",
        "\n",
        "# Calculating similarity scores using cosine similarity\n",
        "similarity_matrix = cosine_similarity(product_tfidf_matrix)\n",
        "\n",
        "# Recommending top 3 similar customers for CustomerID C0001 - C0020\n",
        "customer_ids = customer_profiles['CustomerID'][:20]\n",
        "lookalike_results = {}\n",
        "\n",
        "for idx, customer_id in enumerate(customer_ids):\n",
        "    # Get similarity scores for the current customer\n",
        "    similarity_scores = list(enumerate(similarity_matrix[idx]))\n",
        "\n",
        "    # Sort scores in descending order and exclude self-comparison\n",
        "    sorted_scores = sorted(similarity_scores, key=lambda x: x[1], reverse=True)[1:4]\n",
        "\n",
        "    # Retrieve top 3 similar customers\n",
        "    top_3_lookalikes = [(customer_profiles.iloc[i[0]]['CustomerID'], i[1]) for i in sorted_scores]\n",
        "\n",
        "    # Add to results\n",
        "    lookalike_results[customer_id] = top_3_lookalikes\n",
        "\n",
        "# Save results to Lookalike.csv\n",
        "lookalike_df = pd.DataFrame([\n",
        "    {\n",
        "        'CustomerID': customer_id,\n",
        "        'Lookalikes': str(lookalike_results[customer_id])\n",
        "    }\n",
        "    for customer_id in lookalike_results\n",
        "])\n",
        "lookalike_df.to_csv(\"Aanand_Surana_Lookalike.csv\", index=False)\n",
        "\n",
        "# Display results\n",
        "print(\"Lookalike Recommendations:\\n\", lookalike_df.head())\n"
      ]
    }
  ]
}